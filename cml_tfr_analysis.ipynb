{
 "cells": [
  {
   "cell_type": "code",
   "execution_count": 1,
   "metadata": {},
   "outputs": [
    {
     "name": "stderr",
     "output_type": "stream",
     "text": [
      "/home/HUSTIETOALLAS/ext11670944/.conda/envs/cml_tfr/lib/python3.8/site-packages/tqdm/auto.py:21: TqdmWarning: IProgress not found. Please update jupyter and ipywidgets. See https://ipywidgets.readthedocs.io/en/stable/user_install.html\n",
      "  from .autonotebook import tqdm as notebook_tqdm\n"
     ]
    }
   ],
   "source": [
    "import umap\n",
    "import numpy as np\n",
    "import pandas as pd\n",
    "import seaborn as sns\n",
    "import warnings\n",
    "\n",
    "import matplotlib.pyplot as plt\n",
    "import matplotlib.patches as mpatches\n",
    "\n",
    "from scipy.stats import ranksums\n",
    "from sklearn.preprocessing import StandardScaler\n",
    "\n",
    "from core.constants import HEMATOSCOPE_BIOANALYST_COMPARISON_COLUMN_NAMES\n",
    "\n",
    "from core.statistics.statistical_analysis import (\n",
    "    chi_square_test,\n",
    "    wilcoxon_rank_sum_test, \n",
    "    wilcoxon_rank_sum_test_with_collinearity_filter,\n",
    "    summarize_continuous_variables_by_group,\n",
    "    summarize_categorical_variables_by_group,\n",
    ")\n",
    "from core.preprocessing.data_cleansing import (\n",
    "    clean_clinical_data,\n",
    "    clean_wsi_data, \n",
    "    remove_absolute_variables,\n",
    "    clean_sample_statistic_data,\n",
    ")\n",
    "from core.preprocessing.feature_engineering import (\n",
    "    calculate_sample_cellularity,\n",
    "    create_more_clinical_features,\n",
    "    create_more_cell_count_features,\n",
    "    get_tfr_modelling_data,\n",
    ")\n",
    "from core.utils import (\n",
    "    categorize_based_on_median, \n",
    "    format_p_value, \n",
    "    transform_label, \n",
    "    disable_code_blocks,\n",
    ")\n",
    "\n",
    "from core.visualization.umap import points\n",
    "from core.visualization.kaplan_meier import plot_kaplan_meier_curve\n",
    "from core.visualization.boxplot import plot_covariate_distributions\n",
    "from core.visualization.scatter_plot import draw_scatter_plot\n",
    "from core.visualization.balloon_plot import plot_balloon_plot\n",
    "from core.visualization.histogram import plot_histogram\n",
    "\n",
    "warnings.filterwarnings('ignore')\n",
    "pd.set_option('display.max_rows', 999)\n",
    "pd.set_option('display.max_columns', 999)\n",
    "pd.set_option('display.max_colwidth', 100)"
   ]
  },
  {
   "cell_type": "markdown",
   "metadata": {},
   "source": [
    "**A4 size in inches:** 8.3 x 11.7"
   ]
  },
  {
   "cell_type": "code",
   "execution_count": 2,
   "metadata": {},
   "outputs": [
    {
     "data": {
      "text/html": [
       "<script>\n",
       "code_show=true; \n",
       "function code_toggle() {\n",
       " if (code_show){\n",
       " $('div.input').hide();\n",
       " } else {\n",
       " $('div.input').show();\n",
       " }\n",
       " code_show = !code_show\n",
       "} \n",
       "$( document ).ready(code_toggle);\n",
       "</script>\n",
       "<form action=\"javascript:code_toggle()\"><input type=\"submit\" value=\"Click here to toggle on/off the raw code.\"></form>"
      ],
      "text/plain": [
       "<IPython.core.display.HTML object>"
      ]
     },
     "execution_count": 2,
     "metadata": {},
     "output_type": "execute_result"
    }
   ],
   "source": [
    "disable_code_blocks"
   ]
  },
  {
   "cell_type": "markdown",
   "metadata": {},
   "source": [
    "# Data loading and pre-processing"
   ]
  },
  {
   "cell_type": "code",
   "execution_count": 3,
   "metadata": {},
   "outputs": [],
   "source": [
    "# MAIN COHORT\n",
    "CLINICAL_DATA_PATH = None\n",
    "WSI_IMAGE_DATA_PATH = None\n",
    "CELL_COUNT_DATA_PATH = None\n",
    "SAMPLE_STATISTICS_DATA_PATH = None\n",
    "CELL_STATISTICS_DATA_PATH = None\n",
    "\n",
    "# AUSTRALIA\n",
    "AUS_HALVING_TIME_DATA_PATH = None\n",
    "BIOANALYST_CELL_COUNT_DATA_PATH = None\n",
    "\n",
    "# HEALTHY COHORT\n",
    "HEALTHY_CELL_COUNT_DATA_PATH = None\n",
    "\n",
    "# POOR RESPONSE COHORT\n",
    "NON_RESPONDER_CELL_COUNT_DATA_PATH = None\n",
    "NON_RESPONDER_SAMPLE_STATISTICS_DATA_PATH = None"
   ]
  },
  {
   "cell_type": "code",
   "execution_count": 5,
   "metadata": {},
   "outputs": [],
   "source": [
    "# CLINICAL DATA \n",
    "clinical_data = pd.read_excel(CLINICAL_DATA_PATH, index_col='Hemavision ID')\n",
    "clinical_data = create_more_clinical_features(clinical_data)\n",
    "clinical_data = clean_clinical_data(clinical_data)\n",
    "\n",
    "# WSI-IMAGE DATA\n",
    "wsi_image_data = pd.read_excel(WSI_IMAGE_DATA_PATH, index_col='Hemavision ID')\n",
    "valid_index_values = pd.Index(clinical_data.index).intersection(wsi_image_data.index)\n",
    "wsi_image_data = wsi_image_data.loc[valid_index_values]\n",
    "wsi_image_data = clean_wsi_data(wsi_image_data)\n",
    "wsi_image_data = calculate_sample_cellularity(wsi_image_data)\n",
    "                                \n",
    "# CELL COUNT DATA\n",
    "cell_count_data = pd.read_excel(CELL_COUNT_DATA_PATH, index_col='Hemavision ID')\n",
    "cell_count_data = create_more_cell_count_features(cell_count_data)\n",
    "cell_count_data = cell_count_data.drop(columns=cell_count_data.filter(regex='APL-Class|Vacuolated|Artefacts|Unknowns|Multinuclear|Erythroblasts-Class=').columns)\n",
    "\n",
    "# SAMPLE STATISTIC DATA\n",
    "statistics_data = pd.read_excel(SAMPLE_STATISTICS_DATA_PATH, index_col='Hemavision ID')\n",
    "valid_index_values = pd.Index(clinical_data.index).intersection(statistics_data.index)\n",
    "statistics_data = statistics_data.loc[valid_index_values]\n",
    "statistics_data = clean_sample_statistic_data(statistics_data)\n",
    "\n",
    "# CELL-LEVEL STATISTIC DATA\n",
    "cell_statistics_data = pd.read_csv(CELL_STATISTICS_DATA_PATH)\n",
    "# Remove one sample that had ~10 times more cells compared to other samples\n",
    "cell_statistics_data = cell_statistics_data[~cell_statistics_data[\"Hemavision ID\"].isin([5816])]\n",
    "# remove redundant variables\n",
    "cell_statistics_data = cell_statistics_data.drop(columns=cell_statistics_data.filter(regex='red|green|blue|mean|roundness|convexity').columns)\n",
    "# create unique id/name for cells (image name + detection id) to identify cells from umap\n",
    "cell_statistics_data['JPEG-DET-ID'] = cell_statistics_data[\"JPEG-ID\"].astype(str) + \"_\" + cell_statistics_data[\"DET-IDX\"].astype(str)\n",
    "cell_statistics_data = cell_statistics_data.drop(columns=['DET-IDX', 'JPEG-ID'])\n",
    "cell_statistics_data = cell_statistics_data[cell_statistics_data[\"Hemavision ID\"].isin(clinical_data.index.to_list())]\n",
    "cell_statistics_data = pd.merge(cell_statistics_data, clinical_data[['Relapse after first TKI discontinuation', 'Center', 'Major tyrosine kinase inhibitor is second-generation TKI']], on='Hemavision ID', how='left')\n",
    "\n",
    "# BIOANALYST CELL COUNTS\n",
    "bioanalyst_cell_count_data = pd.read_excel(BIOANALYST_CELL_COUNT_DATA_PATH, index_col='Hemavision ID')\n",
    "\n",
    "# HALVING-TIME DATA\n",
    "halving_time_data_aus = pd.read_excel(AUS_HALVING_TIME_DATA_PATH, index_col='Hemavision ID')[['3-month halving time']]\n",
    "\n",
    "# HEALTHY SAMPLES\n",
    "healthy_cell_count_data = pd.read_excel(HEALTHY_CELL_COUNT_DATA_PATH, index_col='Hemavision ID')\n",
    "healthy_cell_count_data = healthy_cell_count_data.rename(columns={\"Living_cells\": \"Living cells\"})\n",
    "healthy_cell_count_data = create_more_cell_count_features(healthy_cell_count_data)\n",
    "\n",
    "# NON-RESPONDER DATA\n",
    "non_responder_cell_count_data = pd.read_excel(NON_RESPONDER_CELL_COUNT_DATA_PATH, index_col='Hemavision ID')\n",
    "non_responder_cell_count_data = create_more_cell_count_features(non_responder_cell_count_data)\n",
    "non_responder_statistics_data = pd.read_excel(NON_RESPONDER_SAMPLE_STATISTICS_DATA_PATH, index_col='Hemavision ID')\n",
    "# Remove columns with more than 50% NaN values from sample statistic data\n",
    "non_responder_statistics_data = non_responder_statistics_data.loc[:, non_responder_statistics_data.isnull().mean() < 0.5]\n",
    "non_responder_data = pd.concat([non_responder_cell_count_data, non_responder_statistics_data], axis=1, join='outer')\n",
    "\n",
    "# merge all dataframes\n",
    "multi_modal_data = pd.concat([clinical_data, wsi_image_data, cell_count_data, statistics_data], axis=1, join='inner')\n",
    "multi_modal_data = pd.concat([multi_modal_data , halving_time_data_aus.reindex(multi_modal_data.index)], axis=1)\n",
    "multi_modal_data = remove_absolute_variables(multi_modal_data)\n",
    "\n",
    "# create dataframe where categorical variables has boolean data types\n",
    "modelling_data, hemavision_ids = get_tfr_modelling_data(multi_modal_data)\n",
    "\n",
    "# extract WSI variables\n",
    "wsi_columns = wsi_image_data.columns.to_list()\n",
    "WSI_VARIABLES = [col for col in wsi_columns if col in multi_modal_data.columns]\n",
    "\n",
    "# extract cell count variables\n",
    "cell_count_columns = cell_count_data.columns.to_list()\n",
    "CELL_COUNT_VARIABLES = [col for col in cell_count_columns if col in multi_modal_data.columns]\n",
    "\n",
    "# extract cell statistic variables\n",
    "sample_statistic_columns = statistics_data.columns.to_list()\n",
    "SAMPLE_STATISTIC_VARIABLES = [col for col in sample_statistic_columns if col in multi_modal_data.columns]\n",
    "\n",
    "# all image variables\n",
    "IMAGE_VARIABLES = WSI_VARIABLES + CELL_COUNT_VARIABLES + SAMPLE_STATISTIC_VARIABLES\n",
    "\n",
    "PREDICTED_VARIABLE ='Relapse after first TKI discontinuation'\n",
    "TIME_VARIABLE = 'Timepoint of possible relapse after first TKI discontinuation (months)'"
   ]
  },
  {
   "cell_type": "markdown",
   "metadata": {},
   "source": [
    "# Analysis"
   ]
  },
  {
   "cell_type": "markdown",
   "metadata": {},
   "source": [
    "### Relapse rates"
   ]
  },
  {
   "cell_type": "markdown",
   "metadata": {},
   "source": [
    "**At 6 months after treatment discontinuation:**"
   ]
  },
  {
   "cell_type": "code",
   "execution_count": null,
   "metadata": {},
   "outputs": [],
   "source": [
    "df = multi_modal_data[[PREDICTED_VARIABLE, TIME_VARIABLE]]\n",
    "total_patients = len(df)\n",
    "relapsed_within_6_months = df[(df[PREDICTED_VARIABLE] == 'yes') & (df[TIME_VARIABLE] <= 6)]\n",
    "not_relapsed_within_6_months = total_patients - len(relapsed_within_6_months)\n",
    "percent_relapsed_6_months = len(relapsed_within_6_months) / total_patients * 100\n",
    "percent_not_relapsed_6_months = not_relapsed_within_6_months / total_patients * 100\n",
    "\n",
    "print(f\"  - Relapsed: {percent_relapsed_6_months:.1f}%\")\n",
    "print(f\"  - Not Relapsed: {percent_not_relapsed_6_months:.1f}%\")"
   ]
  },
  {
   "cell_type": "markdown",
   "metadata": {},
   "source": [
    "**At the end:**"
   ]
  },
  {
   "cell_type": "code",
   "execution_count": null,
   "metadata": {},
   "outputs": [],
   "source": [
    "df = multi_modal_data[[PREDICTED_VARIABLE, TIME_VARIABLE]]\n",
    "relapsed_total = df[df[PREDICTED_VARIABLE] == 'yes']\n",
    "not_relapsed_total = df[df[PREDICTED_VARIABLE] == 'no']\n",
    "percent_relapsed_total = len(relapsed_total) / total_patients * 100\n",
    "percent_not_relapsed_total = len(not_relapsed_total) / total_patients * 100\n",
    "print(f\"  - Relapsed: {percent_relapsed_total:.1f}%\")\n",
    "print(f\"  - Not Relapsed: {percent_not_relapsed_total:.1f}%\")"
   ]
  },
  {
   "cell_type": "markdown",
   "metadata": {},
   "source": [
    "### Summary of TKIs"
   ]
  },
  {
   "cell_type": "code",
   "execution_count": null,
   "metadata": {},
   "outputs": [],
   "source": [
    "def summarize_tki_types(df, TKI_VARIABLE):\n",
    "    # Step 1: Get percentage distribution\n",
    "    percentage_table = (\n",
    "        df.groupby('Center')[TKI_VARIABLE]\n",
    "        .value_counts(normalize=True)\n",
    "        .mul(100)\n",
    "        .rename('Percentage')\n",
    "        .reset_index()\n",
    "    )\n",
    "    summary_table = percentage_table.pivot(index='Center', columns=TKI_VARIABLE, values='Percentage').fillna(0).round(2)\n",
    "    display(summary_table)"
   ]
  },
  {
   "cell_type": "markdown",
   "metadata": {},
   "source": [
    "#### First-line"
   ]
  },
  {
   "cell_type": "code",
   "execution_count": null,
   "metadata": {},
   "outputs": [],
   "source": [
    "TKI_VARIABLE = \"First-line tyrosine kinase inhibitor generic name before discontinuation\"\n",
    "df = multi_modal_data[[\"Center\", TKI_VARIABLE]]\n",
    "df = df[df[TKI_VARIABLE] != \"Imatinib\"]\n",
    "summarize_tki_types(df, TKI_VARIABLE)"
   ]
  },
  {
   "cell_type": "markdown",
   "metadata": {},
   "source": [
    "#### Last-line"
   ]
  },
  {
   "cell_type": "code",
   "execution_count": null,
   "metadata": {},
   "outputs": [],
   "source": [
    "TKI_VARIABLE = \"Last tyrosine kinase inhibitor generic name before discontinuation\"\n",
    "df = multi_modal_data[[\"Center\", TKI_VARIABLE]]\n",
    "df = df[df[TKI_VARIABLE] != \"Imatinib\"]\n",
    "summarize_tki_types(df, TKI_VARIABLE)"
   ]
  },
  {
   "cell_type": "markdown",
   "metadata": {},
   "source": [
    "### Patient characteristics"
   ]
  },
  {
   "cell_type": "code",
   "execution_count": null,
   "metadata": {},
   "outputs": [],
   "source": [
    "numeric_variables = [\n",
    "    \"Patient age at diagnosis (completed years)\",\n",
    "    \"BCR-ABL1 transcript level at 3 months (%)\",\n",
    "    \"BCR-ABL1 transcript level at 6 months (%)\",\n",
    "    \"BCR-ABL1 transcript level at 12 months (%)\",\n",
    "    \"Time to MR4.0 (months)\",\n",
    "    \"Duration of MR4.0 before first TKI discontinuation (months)\",\n",
    "    \"Time to TKI discontinuation (months)\",\n",
    "]\n",
    "summary_table_numeric = summarize_continuous_variables_by_group(\n",
    "    multi_modal_data, \n",
    "    PREDICTED_VARIABLE, \n",
    "    numeric_variables, \n",
    "    {'no': 'Non-relapsing', 'yes': 'Relapse'},\n",
    "    num_decimals=2\n",
    ")\n",
    "wilcoxon_results = wilcoxon_rank_sum_test(\n",
    "    data=multi_modal_data, \n",
    "    predicted_variable=PREDICTED_VARIABLE, \n",
    "    variables=numeric_variables, \n",
    "    keep=True, \n",
    "    max_p_value=1,\n",
    ")\n",
    "patient_summary_numeric = summary_table_numeric.merge(wilcoxon_results[[\"covariate\", \"p-value\"]], on='covariate')\n",
    "patient_summary_numeric[\"p-value\"] = patient_summary_numeric[\"p-value\"].apply(format_p_value)\n",
    "\n",
    "categorical_variables = [\n",
    "    \"Patient gender\",\n",
    "    \"ELTS score-risk class\", \n",
    "    \"First-line tyrosine kinase inhibitor generic name before discontinuation\",\n",
    "    \"First-line tyrosine kinase inhibitor is second-generation TKI\",\n",
    "    \"Last tyrosine kinase inhibitor generic name before discontinuation\",\n",
    "    \"Last tyrosine kinase inhibitor is second-generation TKI\",\n",
    "    \"MR4.0 at 12 months\",\n",
    "    \"Time to TKI discontinuation < 6 years\",\n",
    "]\n",
    "df = multi_modal_data[[PREDICTED_VARIABLE] + categorical_variables]\n",
    "\n",
    "summary_table_categorical = summarize_categorical_variables_by_group(\n",
    "    multi_modal_data, \n",
    "    PREDICTED_VARIABLE, \n",
    "    categorical_variables,\n",
    "    {'no': 'Non-relapsing', 'yes': 'Relapse'},\n",
    ")\n",
    "chi2_results = chi_square_test(\n",
    "    data=multi_modal_data, \n",
    "    predicted_variable=PREDICTED_VARIABLE, \n",
    "    variables=categorical_variables,\n",
    "    max_p_value=1,\n",
    ")\n",
    "patient_summary_categorical = summary_table_categorical.merge(chi2_results[[\"covariate\", \"p-value\"]], on='covariate')\n",
    "patient_summary_categorical[\"p-value\"] = patient_summary_categorical[\"p-value\"].apply(format_p_value)\n",
    "\n",
    "patient_summary = pd.concat([patient_summary_categorical, patient_summary_numeric])\n",
    "display(patient_summary)\n",
    "#patient_summary.to_excel(\"./results/tables/cml-tfr_patient_summary.xlsx\", index=False)"
   ]
  },
  {
   "cell_type": "markdown",
   "metadata": {},
   "source": [
    "### Number of analyzed cells"
   ]
  },
  {
   "cell_type": "markdown",
   "metadata": {},
   "source": [
    "#### Cell differential count data"
   ]
  },
  {
   "cell_type": "code",
   "execution_count": null,
   "metadata": {},
   "outputs": [],
   "source": [
    "median = multi_modal_data[\"Living cells\"].median()\n",
    "q25 = multi_modal_data[\"Living cells\"].quantile(0.25)\n",
    "q75 = multi_modal_data[\"Living cells\"].quantile(0.75)\n",
    "print(f\"Median of intact cells for differential counts: {int(median)} (range, {int(q25)} - {int(q75)})\")"
   ]
  },
  {
   "cell_type": "markdown",
   "metadata": {},
   "source": [
    "#### Cell statistic data"
   ]
  },
  {
   "cell_type": "code",
   "execution_count": null,
   "metadata": {},
   "outputs": [],
   "source": [
    "df = cell_statistics_data[[\"CLS-LBL\", \"Hemavision ID\"]].groupby(\"Hemavision ID\").size()\n",
    "median = df.median()\n",
    "q25 = df.quantile(0.25)\n",
    "q75 = df.quantile(0.75)\n",
    "print(f\"Median of intact cells for cell statistics: {int(median)} (range, {int(q25)} - {int(q75)})\")"
   ]
  },
  {
   "cell_type": "markdown",
   "metadata": {},
   "source": [
    "### UMAP of all the BM cells"
   ]
  },
  {
   "cell_type": "code",
   "execution_count": null,
   "metadata": {},
   "outputs": [],
   "source": [
    "plot_umap = True"
   ]
  },
  {
   "cell_type": "code",
   "execution_count": null,
   "metadata": {},
   "outputs": [],
   "source": [
    "hue = \"Cell type\"\n",
    "hover_label = \"JPEG-DET-ID\"\n",
    "\n",
    "if plot_umap:\n",
    "\n",
    "    # Get cell-level statistics data\n",
    "    df = cell_statistics_data.copy()\n",
    "     \n",
    "    # Exclude artefacts and unknows\n",
    "    df = df[~df[\"CLS-LBL\"].isin([\"Artefacts\", \"Unknowns\"])]\n",
    "    # drop cells (rows) with missing feature data (missing columns)\n",
    "    df = df.dropna()\n",
    "    \n",
    "    # Rename eosinophil maturity types\n",
    "    df[\"CLS-LBL\"] = df[\"CLS-LBL\"].replace({\n",
    "        'Eosinophils_Immature': 'Immature Eosinophils', \n",
    "        'Eosinophils_Mature': 'Mature Eosinophils'\n",
    "    })\n",
    "    \n",
    "    # extract feature data\n",
    "    X = df.drop(columns=[\n",
    "        \"CLS-LBL\",\n",
    "        \"Hemavision ID\",\n",
    "        \"Relapse after first TKI discontinuation\", \n",
    "        \"Center\",\n",
    "        \"Major tyrosine kinase inhibitor is second-generation TKI\",\n",
    "        \"JPEG-DET-ID\",\n",
    "    ])\n",
    "    \n",
    "    # extract label data\n",
    "    label_data = {\n",
    "        \"Cell type\": df[\"CLS-LBL\"].to_numpy(),\n",
    "        \"JPEG-DET-ID\": df[\"JPEG-DET-ID\"].to_numpy(),\n",
    "    }\n",
    "    \n",
    "    # Compute UMAP embeddings\n",
    "    umap_reducer = umap.UMAP(n_components=2, n_neighbors=15, min_dist=0.5, random_state=0)\n",
    "    scaler = StandardScaler()\n",
    "    X_scaled = scaler.fit_transform(X)\n",
    "    X_embedded = umap_reducer.fit_transform(X_scaled)"
   ]
  },
  {
   "cell_type": "code",
   "execution_count": null,
   "metadata": {},
   "outputs": [],
   "source": [
    "if plot_umap:\n",
    "    # Colors for visualization\n",
    "    cell_colors = {\n",
    "        # Erythropoiesis:\n",
    "        'Proerythroblasts': 'maroon', \n",
    "        'Erythroblasts': 'lightcoral',\n",
    "        'Megakaryocytes': 'darkorange', \n",
    "        # Granulopoiesis:\n",
    "        'Blasts': 'tomato',\n",
    "        'Promyelocytes': 'darkolivegreen',\n",
    "        'Myelocytes': 'yellowgreen', \n",
    "        'Metamyelocytes': 'springgreen',\n",
    "        'Basophils': 'tab:brown', \n",
    "        'Neutrophils': 'dodgerblue', \n",
    "        'Immature Eosinophils': 'mediumpurple',\n",
    "        'Mature Eosinophils': 'blueviolet', \n",
    "        # Monocytopoiesis:\n",
    "        'Promonocytes': 'navy',\n",
    "        'Monocytes': 'gold',\n",
    "        'Macrophages': 'darkkhaki',\n",
    "        # Lymphopoiesis:\n",
    "        'Lymphocytes': 'teal', \n",
    "        'Plasma cells': 'turquoise',\n",
    "    }\n",
    "    \n",
    "    # Show UMAP-visualization\n",
    "    fig, ax = plt.subplots(figsize=(4, 3))\n",
    "    points(\n",
    "        umap_reducer, \n",
    "        labels=label_data[hue], \n",
    "        color_key=cell_colors, \n",
    "        alpha=0.8, \n",
    "        fontsize=6, \n",
    "        save_path=\"./results/figures/umap_cells.png\",\n",
    "        ax=ax,\n",
    "    )"
   ]
  },
  {
   "cell_type": "markdown",
   "metadata": {},
   "source": [
    "<span style=\"font-size: 16px; font-weight: normal;\"><strong>Extra: </strong>Previous UMAP with interactive hover labels for inspecting cell IDs.</span>"
   ]
  },
  {
   "cell_type": "code",
   "execution_count": null,
   "metadata": {},
   "outputs": [],
   "source": [
    "import plotly.express as px\n",
    "\n",
    "if plot_umap:\n",
    "    \n",
    "    fig = px.scatter(\n",
    "        x=umap_reducer.embedding_[:, 0], \n",
    "        y=umap_reducer.embedding_[:, 1], \n",
    "        color=label_data[hue], \n",
    "        hover_name=label_data[hover_label], \n",
    "        width=700,\n",
    "        height=500,\n",
    "    )\n",
    "    fig.update_traces(\n",
    "        marker=dict(opacity=0.3),\n",
    "        selector=dict(mode=\"markers\"),\n",
    "    )\n",
    "    fig.show()"
   ]
  },
  {
   "cell_type": "markdown",
   "metadata": {},
   "source": [
    "### BM cell differentials at diagnosis (healthy samples as a reference)"
   ]
  },
  {
   "cell_type": "code",
   "execution_count": null,
   "metadata": {},
   "outputs": [],
   "source": [
    "variables_to_include = [\n",
    "    # Erythropoiesis:\n",
    "    'Proerythroblasts_Percentage',\n",
    "    'Erythroblasts_Percentage',\n",
    "    # Granulopoiesis:\n",
    "    'Blasts_Percentage',\n",
    "    'Promyelocytes_Percentage',\n",
    "    'Myelocytes_Percentage', \n",
    "    'Metamyelocytes_Percentage',\n",
    "    'Basophils_Percentage', \n",
    "    'Neutrophils_Percentage', \n",
    "    'Eosinophils_Percentage',\n",
    "    # Monocytopoiesis:\n",
    "    'Promonocytes_Percentage',\n",
    "    'Monocytes_Percentage',\n",
    "    'Macrophages_Percentage',\n",
    "    # Lymphopoiesis:\n",
    "    'Lymphocytes_Percentage', \n",
    "    'Plasma cells_Percentage',\n",
    "]\n",
    "df1 = multi_modal_data[variables_to_include]\n",
    "df2 = healthy_cell_count_data[variables_to_include]\n",
    "\n",
    "dfs = [df1, df2]\n",
    "df_names = ['CP-CML', 'Healthy']\n",
    "\n",
    "# prepare the data by melting each dataframe and adding a 'DataFrame_ID' to distinguish them\n",
    "melted_dfs = []\n",
    "for df, name in zip(dfs, df_names):\n",
    "    df_copy = df.copy().reset_index(drop=True)  # Ensure no index conflict\n",
    "    df_copy['DataFrame_ID'] = name  # Add the DataFrame identifier to avoid naming conflict\n",
    "    melted = pd.melt(df_copy, id_vars='DataFrame_ID', var_name='Cell type', value_name='Proportion (%)')\n",
    "    melted_dfs.append(melted)\n",
    "\n",
    "# Combine all melted dataframes into one\n",
    "combined_df = pd.concat(melted_dfs, ignore_index=True)\n",
    "\n",
    "# Create a figure and axis\n",
    "fig, ax = plt.subplots(1, 1, figsize=(4, 2.8))\n",
    "fontsize = 7\n",
    "\n",
    "# Plot the data for each dataframe\n",
    "sns.stripplot(\n",
    "    y='Cell type', x='Proportion (%)', data=combined_df,\n",
    "    hue='DataFrame_ID', dodge=True, palette={'CP-CML': 'tab:red', 'Healthy': 'tab:blue'},\n",
    "    size=2, linewidth=0, zorder=0, alpha=0.7, ax=ax\n",
    ")\n",
    "sns.boxplot(\n",
    "    y='Cell type', x='Proportion (%)', data=combined_df,\n",
    "    hue='DataFrame_ID', dodge=True, palette={'CP-CML': 'tab:red', 'Healthy': 'tab:blue'},\n",
    "    linewidth=0.8, ax=ax, showfliers=False, whis=0, zorder=1,\n",
    "    boxprops=dict(facecolor='none', edgecolor='black'),\n",
    "    whiskerprops=dict(color='black', linestyle='--'),\n",
    "    capprops=dict(color='black', linestyle='--'),\n",
    "    medianprops=dict(color='black')\n",
    ")\n",
    "\n",
    "# generate significance-marked y-axis labels\n",
    "significant_labels = []\n",
    "for cell in variables_to_include:\n",
    "    values_df = df1[cell].dropna()\n",
    "    values_df2 = df2[cell].dropna()\n",
    "    if len(values_df) > 1 and len(values_df2) > 1 and values_df.nunique() > 1 and values_df2.nunique() > 1:\n",
    "        stat, p = ranksums(values_df, values_df2)\n",
    "        if p <= 0.001:\n",
    "            stars = \"***\"\n",
    "        elif p <= 0.01:\n",
    "            stars = \"**\"\n",
    "        elif p <= 0.05:\n",
    "            stars = \"*\"\n",
    "        else:\n",
    "            stars = \"\"\n",
    "        significant_labels.append(f\"{cell.split('_')[0]} {stars}\")\n",
    "\n",
    "ax.set_yticklabels(significant_labels, fontsize=fontsize-1)\n",
    "ax.set_ylabel(\"\")\n",
    "ax.set_xlabel(\"Percentage (%)\", fontsize=fontsize-1)\n",
    "ax.set_xticks([0, 5, 10, 20, 30, 40, 50, 60])\n",
    "ax.tick_params(axis='x', labelsize=fontsize-1)\n",
    "ax.set_xlim(-1, 70)\n",
    "\n",
    "ax.spines[['left', 'right', 'top']].set_visible(False)\n",
    "ax.tick_params(left=False)\n",
    "\n",
    "# Add legend\n",
    "handles, labels = ax.get_legend_handles_labels()\n",
    "handles = [mpatches.Patch(color='tab:red', label='CP CML'), mpatches.Patch(color='tab:blue', label='Healthy')]\n",
    "ax.legend(handles=handles, loc='best', frameon=False, fontsize=fontsize-1)\n",
    "\n",
    "ax.set_title(\"Bone marrow differential cell counts \\nin CP CML and healthy reference cohorts\", fontsize=fontsize)\n",
    "\n",
    "plt.tight_layout()\n",
    "plt.savefig(\"./results/figures/box_strip_plot_cell_differential_counts.png\", format='png', dpi=300)\n",
    "plt.show()"
   ]
  },
  {
   "cell_type": "markdown",
   "metadata": {},
   "source": [
    "#### Summary of CP CML differential counts (Median [25%-75%]):"
   ]
  },
  {
   "cell_type": "code",
   "execution_count": null,
   "metadata": {},
   "outputs": [],
   "source": [
    "variables_to_include = [\n",
    "    # Erythropoiesis:\n",
    "    'Proerythroblasts_Percentage',\n",
    "    'Erythroblasts_Percentage',\n",
    "    'Erythropoietic cells_Percentage',\n",
    "    # Granulopoiesis:\n",
    "    'Blasts_Percentage',\n",
    "    'Promyelocytes_Percentage',\n",
    "    'Myelocytes_Percentage', \n",
    "    'Metamyelocytes_Percentage',\n",
    "    'Basophils_Percentage', \n",
    "    'Neutrophils_Percentage', \n",
    "    'Eosinophils_Percentage',\n",
    "    'Immature granulopoietic cells_Percentage',\n",
    "    'Mature granulopoietic cells_Percentage',\n",
    "    'Granulopoietic cells_Percentage',\n",
    "    # Monocytopoiesis:\n",
    "    'Promonocytes_Percentage',\n",
    "    'Monocytes_Percentage',\n",
    "    'Macrophages_Percentage',\n",
    "    # Lymphopoiesis:\n",
    "    'Lymphocytes_Percentage', \n",
    "    'Plasma cells_Percentage',\n",
    "]\n",
    "'Immature granulopoietic cells_Percentage'\n",
    "'Mature granulopoietic cells_Percentage'\n",
    "'Granulopoietic cells_Percentage'\n",
    "\n",
    "df = multi_modal_data[variables_to_include]\n",
    "summary = pd.DataFrame({\n",
    "    'Median': df.median(),\n",
    "    '25%': df.quantile(0.25),\n",
    "    '75%': df.quantile(0.75),\n",
    "}).round(1)\n",
    "display(summary)"
   ]
  },
  {
   "cell_type": "markdown",
   "metadata": {},
   "source": [
    "#### Summary of healthy control differential counts (Median [25%-75%]):"
   ]
  },
  {
   "cell_type": "code",
   "execution_count": null,
   "metadata": {},
   "outputs": [],
   "source": [
    "df = healthy_cell_count_data[variables_to_include]\n",
    "summary = pd.DataFrame({\n",
    "    'Median': df.median(),\n",
    "    '25%': df.quantile(0.25),\n",
    "    '75%': df.quantile(0.75),\n",
    "}).round(1)\n",
    "display(summary)"
   ]
  },
  {
   "cell_type": "markdown",
   "metadata": {},
   "source": [
    "### Association of cytomorphological variables with TFR"
   ]
  },
  {
   "cell_type": "markdown",
   "metadata": {},
   "source": [
    "#### Statistical association measured with Wilcoxon rank sum test"
   ]
  },
  {
   "cell_type": "markdown",
   "metadata": {},
   "source": [
    "**Note:** Inspect the multicollinearity of the most significant variables to detect variables that might describe the same phenomenon. We use spearman correlation coefficient for the comparison. If variable is part of cell statistics, we will compare the variable to other "
   ]
  },
  {
   "cell_type": "code",
   "execution_count": null,
   "metadata": {},
   "outputs": [],
   "source": [
    "wilcoxon_results = wilcoxon_rank_sum_test_with_collinearity_filter(\n",
    "    df=multi_modal_data,\n",
    "    predicted_variable=PREDICTED_VARIABLE, \n",
    "    sample_statistic_variables=SAMPLE_STATISTIC_VARIABLES, \n",
    "    image_variables=IMAGE_VARIABLES,\n",
    "    variables=IMAGE_VARIABLES,\n",
    "    keep=True,\n",
    "    correlation_threshold=0.8,\n",
    "    max_p_value=0.05\n",
    ")\n",
    "# drop cell shape related variables because visual inspection revealed those to be technical signal\n",
    "wilcoxon_results = wilcoxon_results[~wilcoxon_results['covariate'].str.contains('_cell-', na=False)]\n",
    "\n",
    "summary = summarize_continuous_variables_by_group(\n",
    "    multi_modal_data, \n",
    "    PREDICTED_VARIABLE, \n",
    "    wilcoxon_results['covariate'].to_list(), \n",
    "    labels = {'yes': 'Relapsed', 'no': 'Remission'}, \n",
    "    num_decimals=3,\n",
    ")\n",
    "\n",
    "wilcoxon_results = wilcoxon_results.merge(summary, on=\"covariate\")\n",
    "wilcoxon_results"
   ]
  },
  {
   "cell_type": "markdown",
   "metadata": {},
   "source": [
    "#### Box plots of the statistically significant cytomorphological variables"
   ]
  },
  {
   "cell_type": "code",
   "execution_count": null,
   "metadata": {},
   "outputs": [],
   "source": [
    "covariates_to_plot = {\n",
    "    \"Promyelocytes_nuclei-eccentricity_median\": \"Promyelocyte nuclei \\n ellipticity (Mdn)\",\n",
    "    \"Eosinophils_Immature_Percentage\": \"Immature \\n eosinophils (%)\",\n",
    "    \"Eosinophils_Immature_to_Mature granulopoietic cells_Ratio\": \"Ratio of immature \\n eosinophils to \\n granulocytes\",\n",
    "    \"Neutrophils_Percentage\": \"Neutrophils (%)\",\n",
    "    \"Neutrophils_nuclei-solidity_std\": \"Neutrophil nuclei \\n solidity (σ)\",\n",
    "    \"ME-ratio\": \"M:E ratio\",\n",
    "}\n",
    "plot_covariate_distributions(\n",
    "    multi_modal_data, \n",
    "    covariates_to_plot, \n",
    "    PREDICTED_VARIABLE, \n",
    "    label_mapping={\"no\": \"Non-\\nrelapsing\", \"yes\": \"Relapse\"},\n",
    "    custom_palette={\"no\": \"tab:blue\", \"yes\": \"tab:red\"}, \n",
    "    fontsize=7, \n",
    "    num_columns=6, \n",
    "    fig_width=8.3,\n",
    "    fig_height=2.5,\n",
    "    save_path=\"./results/figures/box_strip_plot_cytomorphological variables associated with tfr.png\",\n",
    ")"
   ]
  },
  {
   "cell_type": "markdown",
   "metadata": {},
   "source": [
    "#### Correlation between M:E Ratio and granulopoietic cells (%)"
   ]
  },
  {
   "cell_type": "code",
   "execution_count": null,
   "metadata": {},
   "outputs": [],
   "source": [
    "draw_scatter_plot(\n",
    "    x_variable=\"ME-ratio\",\n",
    "    y_variable=\"Granulopoietic cells_Percentage\",\n",
    "    df=multi_modal_data,\n",
    "    correlation_method='spearman',\n",
    "    show_trendline=False,\n",
    "    show_regression=False,\n",
    "    show_correlation=True,\n",
    "    x_label=\"M:E ratio\",\n",
    "    y_label=\"Granulopoietic cells (%)\",\n",
    "    show_grid=False,\n",
    "    figsize=(2.5, 2.5),\n",
    "    fontsize=7,\n",
    ")"
   ]
  },
  {
   "cell_type": "markdown",
   "metadata": {},
   "source": [
    "### Kaplan-meier analysis of the cytomorphological variables"
   ]
  },
  {
   "cell_type": "markdown",
   "metadata": {},
   "source": [
    "#### Promyelocyte nuclei eccentricity (Mdn)"
   ]
  },
  {
   "cell_type": "code",
   "execution_count": null,
   "metadata": {},
   "outputs": [],
   "source": [
    "VARIABLE = \"Promyelocytes_nuclei-eccentricity_median\"\n",
    "\n",
    "df = modelling_data.copy()\n",
    "df = df[[TIME_VARIABLE, VARIABLE, PREDICTED_VARIABLE]].dropna()\n",
    "df, median = categorize_based_on_median(df, VARIABLE, below_median=False, decimals=2)\n",
    "\n",
    "plot_kaplan_meier_curve(\n",
    "    df=df,\n",
    "    time_col=TIME_VARIABLE,\n",
    "    event_col=PREDICTED_VARIABLE,\n",
    "    group_col=\"Promyelocytes_nuclei-eccentricity_median > median\",\n",
    "    fontsize=7,\n",
    "    custom_legends = {\"False\": f\"Ellipticity $\\leq${median}\", \"True\": f\"Ellipticity $>${median}\"},\n",
    "    colors = {\"False\": \"tab:blue\", \"True\": \"tab:red\"},\n",
    "    title=\"Probability of sustained TFR based on \\n the ellipticity of promyelocyte nuclei\",\n",
    "    xlabel=\"Months after TKI discontinuation\",\n",
    "    ylabel=\"Probability of TFR\",\n",
    "    figsize = (2.5, 1.8),\n",
    "    save_path=\"./results/figures/kaplan_meier_promyelocyte_nuclei_ellipticity.png\",\n",
    ")"
   ]
  },
  {
   "cell_type": "markdown",
   "metadata": {},
   "source": [
    "#### M:E Ratio"
   ]
  },
  {
   "cell_type": "code",
   "execution_count": null,
   "metadata": {},
   "outputs": [],
   "source": [
    "VARIABLE = \"ME-ratio\"\n",
    "\n",
    "df = modelling_data.copy()\n",
    "df = df[[TIME_VARIABLE, VARIABLE, PREDICTED_VARIABLE]].dropna()\n",
    "df, median = categorize_based_on_median(df, VARIABLE, below_median=False, decimals=1)\n",
    "\n",
    "plot_kaplan_meier_curve(\n",
    "    df=df,\n",
    "    time_col=TIME_VARIABLE,\n",
    "    event_col=PREDICTED_VARIABLE,\n",
    "    group_col=\"ME-ratio > median\",\n",
    "    fontsize=7,\n",
    "    custom_legends = {\"True\": f\"M:E $>${median}\", \"False\": f\"M:E $\\leq${median}\"},\n",
    "    colors = {\"True\": \"tab:blue\", \"False\": \"tab:red\"},\n",
    "    title=\"Probability of sustained TFR based on \\nthe M:E ratio\",\n",
    "    xlabel=\"Months after TKI discontinuation\",\n",
    "    ylabel=\"Probability of TFR\",\n",
    "    figsize = (2.5, 1.8),\n",
    "    save_path=\"./results/figures/kaplan_meier_ME-ratio.png\",\n",
    ")"
   ]
  },
  {
   "cell_type": "markdown",
   "metadata": {},
   "source": [
    "#### Neutrophils (%)"
   ]
  },
  {
   "cell_type": "code",
   "execution_count": null,
   "metadata": {},
   "outputs": [],
   "source": [
    "VARIABLE = \"Neutrophils_Percentage\"\n",
    "\n",
    "df = modelling_data.copy()\n",
    "df = df[[TIME_VARIABLE, VARIABLE, PREDICTED_VARIABLE]].dropna()\n",
    "df, median = categorize_based_on_median(df, VARIABLE, below_median=False, decimals=1)\n",
    "\n",
    "plot_kaplan_meier_curve(\n",
    "    df=df,\n",
    "    time_col=TIME_VARIABLE,\n",
    "    event_col=PREDICTED_VARIABLE,\n",
    "    group_col=\"Neutrophils_Percentage > median\",\n",
    "    fontsize=7,\n",
    "    custom_legends = {\"True\": f\"$>${median} %\", \"False\": f\"$\\leq${median} %\"},\n",
    "    colors = {\"True\": \"tab:blue\", \"False\": \"tab:red\"},\n",
    "    title=\"Probability of sustained TFR based on \\n the neutrophil percentage\",\n",
    "    xlabel=\"Months after TKI discontinuation\",\n",
    "    ylabel=\"Probability of TFR\",\n",
    "    figsize = (2.5, 1.8),\n",
    "    save_path=\"./results/figures/kaplan_meier_neutrophils.png\",\n",
    ")"
   ]
  },
  {
   "cell_type": "markdown",
   "metadata": {},
   "source": [
    "#### Ratio of immature eosinophils to granulocytes"
   ]
  },
  {
   "cell_type": "code",
   "execution_count": null,
   "metadata": {},
   "outputs": [],
   "source": [
    "VARIABLE = \"Eosinophils_Immature_to_Mature granulopoietic cells_Ratio\"\n",
    "\n",
    "df = modelling_data.copy()\n",
    "df = df[[TIME_VARIABLE, VARIABLE, PREDICTED_VARIABLE]].dropna()\n",
    "df, median = categorize_based_on_median(df, VARIABLE, below_median=False, decimals=2)\n",
    "\n",
    "plot_kaplan_meier_curve(\n",
    "    df=df,\n",
    "    time_col=TIME_VARIABLE,\n",
    "    event_col=PREDICTED_VARIABLE,\n",
    "    group_col=\"Eosinophils_Immature_to_Mature granulopoietic cells_Ratio > median\",\n",
    "    fontsize=7,\n",
    "    custom_legends = {\"False\": f\"Ratio $\\leq${median}\", \"True\": f\"Ratio $>${median}\"},\n",
    "    colors = {\"False\": \"tab:blue\", \"True\": \"tab:red\"},\n",
    "    title=\"Probability of sustained TFR based on the ratio \\nof immature eosinophils to granulocytes\",\n",
    "    xlabel=\"Months after TKI discontinuation\",\n",
    "    ylabel=\"Probability of TFR\",\n",
    "    save_path=\"./results/figures/kaplan_meier_imm-eos-to-gran.png\",\n",
    "    figsize = (2.5, 1.8),\n",
    ")"
   ]
  },
  {
   "cell_type": "markdown",
   "metadata": {},
   "source": [
    "### Association of cytomorphology and prognostic variables in CML"
   ]
  },
  {
   "cell_type": "code",
   "execution_count": null,
   "metadata": {},
   "outputs": [],
   "source": [
    "prognostic_variables = {\n",
    "    \"Spleen size at diagnosis (max. distance from costal margin) > 0\": \"Spleen size $>$0 cm\",\n",
    "    \"Time to TKI discontinuation < 6 years\": \"Time to TKI discontinuation $<$6 years\",\n",
    "    \"Duration of MR4.0 before first TKI discontinuation (months) < median\": \"Duration of MR4.0 $<$42 months\",\n",
    "    \"MR4.0 at 12 months\": \"MR4.0 at 12 months\",\n",
    "    \"Last tyrosine kinase inhibitor is second-generation TKI\": \"Last-line 2G-TKI\",\n",
    "    \"First-line tyrosine kinase inhibitor is second-generation TKI\": \"First-line 2G-TKI \",\n",
    "    \"ELTS score-risk class_low\": \"ELTS, low\",\n",
    "    \"Patient age at diagnosis > 50\": \"Age $>$50 years\",\n",
    "    \"Patient gender_male\": \"Gender, male\",\n",
    "}\n",
    "covariates_to_plot = {\n",
    "    \"Neutrophils_Percentage\": \"Neutrophils (%)\",\n",
    "    \"ME-ratio\": \"M:E Ratio\",\n",
    "    \"Neutrophils_nuclei-solidity_std\": \"Neutrophil nuclei solidity (σ)\",\n",
    "    \"Promyelocytes_nuclei-eccentricity_median\": \"Promyelocyte nuclei ellipticity (Mdn)\", \n",
    "    \"Eosinophils_Immature_Percentage\": \"Immature eosinophils (%)\",\n",
    "    \"Eosinophils_Immature_to_Mature granulopoietic cells_Ratio\": \"Ratio of immature eosinophils to granulocytes\", \n",
    "}\n",
    "\n",
    "data = modelling_data.copy()\n",
    "data, median_value = categorize_based_on_median(data, \"Duration of MR4.0 before first TKI discontinuation (months)\", below_median=True)\n",
    "\n",
    "plot_balloon_plot(\n",
    "    df=data,\n",
    "    cat_vars=prognostic_variables,\n",
    "    cont_vars=covariates_to_plot,\n",
    "    max_pvalue=0.05,\n",
    "    plot_height=2.5,\n",
    "    plot_width=2.5,\n",
    "    fontsize=7,\n",
    "    title=\"Association of cytomorphological variabes \\n with prognostic variables in CML\", \n",
    "    save_path=\"./results/figures/balloon_plot_prognostic_variables_vs_cytomorphology.png\",\n",
    ")"
   ]
  },
  {
   "cell_type": "markdown",
   "metadata": {},
   "source": [
    "### Analysis of ELTS"
   ]
  },
  {
   "cell_type": "code",
   "execution_count": null,
   "metadata": {},
   "outputs": [],
   "source": [
    "covariates_to_plot = {\n",
    "    \"ME-ratio\": \"M:E ratio\",\n",
    "    #\"Granulopoietic cells_Percentage\": \"Granulopoietic cells (%)\",\n",
    "    #\"Erythropoietic cells_Percentage\": \"Erythropoietic cells (%)\",\n",
    "}\n",
    "\n",
    "for variable, title in covariates_to_plot.items():\n",
    "    plot_covariate_distributions(\n",
    "        modelling_data.dropna(subset=\"ELTS score-risk class_low\"),\n",
    "        {variable: title}, \n",
    "        \"ELTS score-risk class_low\", \n",
    "        label_mapping={True: \"low\", False: \"intermediate-\\nhigh\"},\n",
    "        custom_palette={False: \"tab:red\", True: \"tab:blue\"}, \n",
    "        xlabel=\"ELTS\",\n",
    "        fontsize=7, \n",
    "        num_columns=1, \n",
    "        fig_width=1.5, \n",
    "        fig_height=2.5,\n",
    "        save_path=f\"./results/figures/box_strip_plot_{variable}-vs-ELTS.png\",\n",
    "    )"
   ]
  },
  {
   "cell_type": "markdown",
   "metadata": {},
   "source": [
    "### Analysis of spleen size"
   ]
  },
  {
   "cell_type": "code",
   "execution_count": null,
   "metadata": {},
   "outputs": [],
   "source": [
    "covariates_to_plot = {\n",
    "    \"ME-ratio\": \"M:E ratio\",\n",
    "    \"Eosinophils_Immature_to_Mature granulopoietic cells_Ratio\": \"Ratio of immature \\n eosinophils to \\n granulopoietic cells\",\n",
    "}\n",
    "\n",
    "for variable, label in covariates_to_plot.items():\n",
    "    plot_covariate_distributions(\n",
    "        multi_modal_data.dropna(subset=\"Spleen size at diagnosis (max. distance from costal margin) > 0\"), \n",
    "        {variable: label}, \n",
    "        \"Spleen size at diagnosis (max. distance from costal margin) > 0\", \n",
    "        label_mapping={\"no\": \"Normal\", \"yes\": \"Enlarged\"},\n",
    "        custom_palette={\"no\": \"tab:blue\", \"yes\": \"tab:red\"}, \n",
    "        xlabel=\"Spleen size\",\n",
    "        fontsize=7, \n",
    "        num_columns=1, \n",
    "        fig_width=1.5, \n",
    "        fig_height=2.5,\n",
    "        save_path=f\"./results/figures/box_strip_plot_{variable}-vs-spleen size.png\",\n",
    "    )"
   ]
  },
  {
   "cell_type": "code",
   "execution_count": null,
   "metadata": {},
   "outputs": [],
   "source": [
    "draw_scatter_plot(\n",
    "    x_variable=\"Granulopoietic cells_Percentage\",\n",
    "    y_variable=\"Spleen size at diagnosis (max. distance from costal margin)\",\n",
    "    df=multi_modal_data,\n",
    "    correlation_method='pearson',\n",
    "    show_trendline=False,\n",
    "    show_regression=False,\n",
    "    show_correlation=False,\n",
    "    title=\"Relationship between spleen size \\n and granulopoietic cells\",\n",
    "    x_label=\"Granulopoietic cells (%)\",\n",
    "    y_label=\"Spleen size (cm)\",\n",
    "    figsize=(2.2, 2.5),\n",
    "    fontsize=7,\n",
    "    marker_size=10,\n",
    "    save_path=f\"./results/figures/scatter_plot_granulopoietic cells-vs-spleen size.png\",\n",
    ")"
   ]
  },
  {
   "cell_type": "markdown",
   "metadata": {},
   "source": [
    "### Analysis of halving time"
   ]
  },
  {
   "cell_type": "markdown",
   "metadata": {},
   "source": [
    "#### Association of halving time and TFR"
   ]
  },
  {
   "cell_type": "code",
   "execution_count": null,
   "metadata": {},
   "outputs": [],
   "source": [
    "data = multi_modal_data.copy()\n",
    "data = data.dropna(subset=[\"3-month halving time\"])\n",
    "\n",
    "plot_covariate_distributions(\n",
    "    data, \n",
    "    {\"3-month halving time\": \"Halving time (days)\"}, \n",
    "    PREDICTED_VARIABLE, \n",
    "    label_mapping={\"no\": \"Non-relapsing\", \"yes\": \"Relapse\"},\n",
    "    custom_palette={\"no\": \"tab:blue\", \"yes\": \"tab:red\"}, \n",
    "    fontsize=7, \n",
    "    num_columns=1, \n",
    "    fig_width=1.5, \n",
    "    fig_height=2.5,\n",
    "    save_path=f\"./results/figures/box_strip_plot_3-month halving time.png\",\n",
    ")"
   ]
  },
  {
   "cell_type": "markdown",
   "metadata": {},
   "source": [
    "#### Kaplan-Meier analysis of halving time"
   ]
  },
  {
   "cell_type": "code",
   "execution_count": null,
   "metadata": {},
   "outputs": [],
   "source": [
    "VARIABLE = \"3-month halving time\"\n",
    "\n",
    "df = modelling_data.copy()\n",
    "df = df[[TIME_VARIABLE, VARIABLE, PREDICTED_VARIABLE]].dropna()\n",
    "df, median = categorize_based_on_median(df, VARIABLE, below_median=False, decimals=2)\n",
    "\n",
    "plot_kaplan_meier_curve(\n",
    "    df=df,\n",
    "    time_col=TIME_VARIABLE,\n",
    "    event_col=PREDICTED_VARIABLE,\n",
    "    group_col=\"3-month halving time > median\",\n",
    "    fontsize=7,\n",
    "    custom_legends = {\"False\": f\"$\\leq${median} days\", \"True\": f\"$>${median} days\"},\n",
    "    colors = {\"False\": \"tab:blue\", \"True\": \"tab:red\"},\n",
    "    title=\"Probability of sustained TFR based on \\n the halving time\",\n",
    "    xlabel=\"Months after TKI discontinuation\",\n",
    "    ylabel=\"Probability of TFR\",\n",
    "    figsize = (2.5, 1.8),\n",
    "    save_path=f\"./results/figures/kaplan_meier_3-month halving time.png\",\n",
    ")"
   ]
  },
  {
   "cell_type": "markdown",
   "metadata": {},
   "source": [
    "#### Association of cytomorphology and halving time"
   ]
  },
  {
   "cell_type": "code",
   "execution_count": null,
   "metadata": {},
   "outputs": [],
   "source": [
    "covariates_to_plot = {\n",
    "    \"Promyelocytes_nuclei-eccentricity_median\": \"Promyelocyte \\n nuclei ellipticity (Mdn)\",\n",
    "    \"Eosinophils_Immature_Percentage\": \"Immature \\n eosinophils (%)\",\n",
    "    \"Eosinophils_Immature_to_Mature granulopoietic cells_Ratio\": \"Ratio of \\n immature eosinophils \\n to granulocytes\",\n",
    "    \"Neutrophils_Percentage\": \"Neutrophils (%)\",\n",
    "    \"Neutrophils_nuclei-solidity_std\": \"Neutrophil \\n nuclei solidity (σ)\",\n",
    "    \"ME-ratio\": \"M:E ratio\",\n",
    "}\n",
    "\n",
    "data = modelling_data.copy()\n",
    "data = data.dropna(subset=[\"3-month halving time\"])\n",
    "halving_time_median = round(data[\"3-month halving time\"].median(), 1)\n",
    "data[\"3-month halving time > median\"] = data[\"3-month halving time\"] > halving_time_median\n",
    "\n",
    "plot_covariate_distributions(\n",
    "    data.dropna(subset=\"3-month halving time > median\"), \n",
    "    covariates_to_plot, \n",
    "    \"3-month halving time > median\", \n",
    "    label_mapping={False: f\"$\\leq${halving_time_median}\", True: f\"$>${halving_time_median}\"},\n",
    "    custom_palette={False: \"tab:blue\", True: \"tab:red\"}, \n",
    "    xlabel=\"Halving time\",\n",
    "    fontsize=7, \n",
    "    num_columns=7, \n",
    "    fig_width=10, \n",
    "    fig_height=2.5,\n",
    ")"
   ]
  },
  {
   "cell_type": "markdown",
   "metadata": {},
   "source": [
    "### Analysis of poor response samples"
   ]
  },
  {
   "cell_type": "code",
   "execution_count": null,
   "metadata": {},
   "outputs": [],
   "source": [
    "covariates_to_plot = {\n",
    "    \"Blasts_Percentage\": \"Blasts (%)\",\n",
    "    \"ME-ratio\": \"M:E ratio\",\n",
    "    \"Erythropoietic cells_Percentage\": \"Erythropoietic cells (%)\", \n",
    "    \"Neutrophils_Percentage\": \"Neutrophils (%)\",\n",
    "    \"Eosinophils_Immature_to_Mature granulopoietic cells_Ratio\":\"Ratio of immature eosinophils \\n to granulocytes\",\n",
    "    \"Eosinophils_Immature_Percentage\":\"Immature eosinophils (%)\",\n",
    "    \"Promyelocytes_nuclei-eccentricity_median\": \"Promyelocyte \\n nuclei ellipticity (Mdn)\",\n",
    "    \"Neutrophils_nuclei-solidity_std\": \"Neutrophil \\n nuclei solidity (σ)\",\n",
    "}\n",
    "\n",
    "df_cp = multi_modal_data[list(covariates_to_plot.keys()) + [PREDICTED_VARIABLE, TIME_VARIABLE]]\n",
    "df_cp[\"Category\"] = df_cp[PREDICTED_VARIABLE].replace({\"yes\": \"Relapse\", \"no\": \"Remission\"})\n",
    "df_cp = df_cp.drop(columns=PREDICTED_VARIABLE)\n",
    "\n",
    "df_cp.loc[df_cp[TIME_VARIABLE] <= 6, \"Category\"] = \"Early relapse\"\n",
    "df_cp.loc[df_cp[TIME_VARIABLE] > 6, \"Category\"] = \"Late relapse\"\n",
    "\n",
    "df_pr = non_responder_data[list(covariates_to_plot.keys())]\n",
    "df_pr.index = df_pr.index.map(lambda x: int(f\"{x}00\"))\n",
    "df_pr[\"Category\"] = \"Non-responder\"\n",
    "\n",
    "df_merged = pd.concat([df_cp, df_pr], ignore_index=False)\n",
    "\n",
    "plot_covariate_distributions(\n",
    "    df_merged,\n",
    "    covariates_to_plot, \n",
    "    \"Category\",\n",
    "    label_mapping={\"Remission\": \"Non-\\nrelapsing\", \"Late relapse\": \"Late\\n relapse\", \"Early relapse\": \"Early\\n relapse\", \"Non-responder\": \"Non-\\n    responder\"},\n",
    "    custom_palette={\"Remission\": \"tab:blue\", \"Late relapse\": \"tab:orange\", \"Early relapse\": \"tab:red\", \"Non-responder\": \"w\"}, \n",
    "    fontsize=7, \n",
    "    num_columns=4,\n",
    "    fig_width=8.3,\n",
    "    fig_height=5,\n",
    "    show_trend_line=True,\n",
    "    save_path=\"./results/figures/box_strip_plot_4-group comparison.png\",\n",
    ")"
   ]
  },
  {
   "cell_type": "markdown",
   "metadata": {},
   "source": [
    "### BM differentical count comparison (hematoscope vs. bioanalyst)"
   ]
  },
  {
   "cell_type": "markdown",
   "metadata": {},
   "source": [
    "**Number of analyzed cells with Hematoscope:**"
   ]
  },
  {
   "cell_type": "code",
   "execution_count": null,
   "metadata": {},
   "outputs": [],
   "source": [
    "multi_modal_data_aus = pd.concat([clinical_data, bioanalyst_cell_count_data, cell_count_data], axis=1, join='inner')\n",
    "multi_modal_data_aus = multi_modal_data_aus.rename(columns=HEMATOSCOPE_BIOANALYST_COMPARISON_COLUMN_NAMES)\n",
    "\n",
    "median = multi_modal_data_aus[\"Living cells\"].median()\n",
    "q25 = multi_modal_data_aus[\"Living cells\"].quantile(0.25)\n",
    "q75 = multi_modal_data_aus[\"Living cells\"].quantile(0.75)\n",
    "print(f\"Median of living cells: {int(median)} (range, {int(q25)} - {int(q75)})\")"
   ]
  },
  {
   "cell_type": "markdown",
   "metadata": {},
   "source": [
    "#### Erythropoietic cells (%)"
   ]
  },
  {
   "cell_type": "code",
   "execution_count": null,
   "metadata": {},
   "outputs": [],
   "source": [
    "draw_scatter_plot(\n",
    "    x_variable=\"Erythropoietic cells (%) - Hematoscope\",\n",
    "    y_variable=\"Erythropoietic cells (%) - Human\",\n",
    "    df=multi_modal_data_aus,\n",
    "    correlation_method='pearson',\n",
    "    show_trendline=True,\n",
    "    show_regression=False,\n",
    "    show_correlation=True,\n",
    "    figsize=(2.5, 2.5),\n",
    "    fontsize=7,\n",
    "    title=\"Comparison of Hematoscope and morphologist \\ndetermined erythropoietic cell percentage\",\n",
    "    x_label=\"Erythropoietic cells (%), Hematoscope\",\n",
    "    y_label=\"Erythropoietic cells (%), Morphologist\",\n",
    "    save_path=\"./results/figures/scatter_plot_erythropoietic-cells_hematoscope-vs-human.png\",\n",
    ")"
   ]
  },
  {
   "cell_type": "markdown",
   "metadata": {},
   "source": [
    "#### M:E Ratio"
   ]
  },
  {
   "cell_type": "code",
   "execution_count": null,
   "metadata": {
    "scrolled": true
   },
   "outputs": [],
   "source": [
    "draw_scatter_plot(\n",
    "    x_variable=\"M:E Ratio - Hematoscope\",\n",
    "    y_variable=\"M:E Ratio - Human\",\n",
    "    df=multi_modal_data_aus,\n",
    "    correlation_method='pearson',\n",
    "    show_trendline=True,\n",
    "    show_regression=False,\n",
    "    show_correlation=True,\n",
    "    figsize=(2.5, 2.5),\n",
    "    fontsize=7,\n",
    "    title=\"Comparison of Hematoscope and \\nmorphologist determined M:E ratio\",\n",
    "    x_label=\"M:E ratio, Hematoscope\",\n",
    "    y_label=\"M:E ratio, Morphologist\",\n",
    "    save_path=\"./results/figures/scatter_plot_ME-ratio_hematoscope-vs-human.png\",\n",
    ")"
   ]
  },
  {
   "cell_type": "markdown",
   "metadata": {},
   "source": [
    "### Comparison of promyelocytes nuclei eccentricity values of non-relapsing and relapsed patients"
   ]
  },
  {
   "cell_type": "markdown",
   "metadata": {},
   "source": [
    "**Pick** example sample from Australia with remission status and low median promyelocyte nuclei eccentricity:"
   ]
  },
  {
   "cell_type": "code",
   "execution_count": null,
   "metadata": {},
   "outputs": [],
   "source": [
    "VARIABLE = \"Promyelocytes_nuclei-eccentricity_median\"\n",
    "df = multi_modal_data.copy()\n",
    "df = df[(df[PREDICTED_VARIABLE] == \"no\") & (df[\"Center\"] == \"Australia\")][[VARIABLE]].sort_values(by=VARIABLE, ascending=True)\n",
    "display(df.head(3))"
   ]
  },
  {
   "cell_type": "markdown",
   "metadata": {},
   "source": [
    "**Pick** example sample from Australia with relapse status and high median promyelocyte nuclei eccentricity:"
   ]
  },
  {
   "cell_type": "code",
   "execution_count": null,
   "metadata": {},
   "outputs": [],
   "source": [
    "VARIABLE = \"Promyelocytes_nuclei-eccentricity_median\"\n",
    "df = multi_modal_data.copy()\n",
    "df = df[(df[PREDICTED_VARIABLE] == \"yes\") & (df[\"Center\"] == \"Australia\")][[VARIABLE]].sort_values(by=VARIABLE, ascending=False)\n",
    "display(df.head(3))"
   ]
  },
  {
   "cell_type": "code",
   "execution_count": null,
   "metadata": {},
   "outputs": [],
   "source": [
    "df = cell_statistics_data.copy()\n",
    "df = df[df[\"CLS-LBL\"] == \"Promyelocytes\"]\n",
    "df = df[df[\"Hemavision ID\"].isin([349, 326])]\n",
    "df[PREDICTED_VARIABLE] = df[PREDICTED_VARIABLE].map({\"yes\": \"Relapsed\", \"no\": \"Non-relapsing\"})\n",
    "\n",
    "plot_histogram(\n",
    "    df=df,\n",
    "    dependent_variable=PREDICTED_VARIABLE,\n",
    "    x_variable=\"nuclei-eccentricity\",  # or any other column name\n",
    "    palette={\"Relapsed\": \"tab:red\", \"Non-relapsing\": \"tab:blue\"},\n",
    "    bins=10,\n",
    "    kde=True,\n",
    "    line_width=3,\n",
    "    xlabel=\"Nuclei ellipticity\",\n",
    "    ylabel=\"Cell count\",\n",
    "    title=\"Comparison of nuclei ellipticity in promyelocytes\\n between a relapsed and a non-relapsing patient\",\n",
    "    figsize=(3.8, 2.5),\n",
    "    save_path=\"./results/figures/histogram_promyelocyte_nuclei_eccentricity.png\",\n",
    ")"
   ]
  },
  {
   "cell_type": "markdown",
   "metadata": {},
   "source": [
    "### Comparison of neutrophil nuclei solidity values of non-relapsing and relapsed patients"
   ]
  },
  {
   "cell_type": "markdown",
   "metadata": {},
   "source": [
    "**Pick** example sample from Australia with remission status and low neutrophil nuclei solidity variance (standard deviation):"
   ]
  },
  {
   "cell_type": "code",
   "execution_count": null,
   "metadata": {},
   "outputs": [],
   "source": [
    "VARIABLE = \"Neutrophils_nuclei-solidity_std\"\n",
    "df = multi_modal_data.copy()\n",
    "df = df[(df[PREDICTED_VARIABLE] == \"yes\") & (df[\"Center\"] == \"Australia\")][[VARIABLE]].sort_values(by=VARIABLE, ascending=True)\n",
    "display(df.head(1))"
   ]
  },
  {
   "cell_type": "markdown",
   "metadata": {},
   "source": [
    "**Pick** example sample from Australia with relapse status and high neutrophil nuclei solidity variance (standard deviation):"
   ]
  },
  {
   "cell_type": "code",
   "execution_count": null,
   "metadata": {},
   "outputs": [],
   "source": [
    "VARIABLE = \"Neutrophils_nuclei-solidity_std\"\n",
    "df = multi_modal_data.copy()\n",
    "df = df[(df[PREDICTED_VARIABLE] == \"no\") & (df[\"Center\"] == \"Australia\")][[VARIABLE]].sort_values(by=VARIABLE, ascending=False)\n",
    "display(df.head(1))"
   ]
  },
  {
   "cell_type": "code",
   "execution_count": null,
   "metadata": {},
   "outputs": [],
   "source": [
    "df = cell_statistics_data.copy()\n",
    "df = df[df[\"CLS-LBL\"] == \"Neutrophils\"]\n",
    "df = df[df[\"Hemavision ID\"].isin([321, 338])]\n",
    "df[PREDICTED_VARIABLE] = df[PREDICTED_VARIABLE].map({\"yes\": \"Relapsed\", \"no\": \"Non-relapsing\"})\n",
    "\n",
    "plot_histogram(\n",
    "    df=df,\n",
    "    dependent_variable=PREDICTED_VARIABLE,\n",
    "    x_variable=\"nuclei-solidity\",\n",
    "    palette={\"Relapsed\": \"tab:red\", \"Non-relapsing\": \"tab:blue\"},\n",
    "    bins=10,\n",
    "    kde=True,\n",
    "    line_width=2,\n",
    "    xlabel=\"Nuclei solidity\",\n",
    "    ylabel=\"Cell count\",\n",
    "    title=\"Comparison of nuclei solidity in neutrophils\\n between a relapsed and a non-relapsing patient\",\n",
    "    figsize=(3.8, 2.5),\n",
    "    save_path=\"./results/figures/histogram_neutrophils_nuclei_solidity.png\",\n",
    ")"
   ]
  },
  {
   "cell_type": "markdown",
   "metadata": {},
   "source": [
    "### Neutrophil nuclei solidity: Standard deviation vs. median"
   ]
  },
  {
   "cell_type": "code",
   "execution_count": null,
   "metadata": {},
   "outputs": [],
   "source": [
    "draw_scatter_plot(\n",
    "    x_variable=\"Neutrophils_nuclei-solidity_median\",\n",
    "    y_variable=\"Neutrophils_nuclei-solidity_std\",\n",
    "    df=multi_modal_data,\n",
    "    correlation_method='spearman',\n",
    "    show_trendline=False,\n",
    "    show_regression=True,\n",
    "    show_correlation=True,\n",
    "    title=\"Correlation between the median \\nand standard deviation \\nof neutrophil nuclei solidity\",\n",
    "    x_label=\"Nuclei solidity (Mdn)\",\n",
    "    y_label=\"Nuclei solidity (σ)\",\n",
    "    show_grid=False,\n",
    "    figsize=(2.5, 2.5),\n",
    "    fontsize=7,\n",
    "    save_path=\"./results/figures/scatter_plot_neutrophil_nuclei_solidity.png\",\n",
    ")"
   ]
  },
  {
   "cell_type": "code",
   "execution_count": null,
   "metadata": {},
   "outputs": [],
   "source": [
    "VARIABLE = \"Neutrophils_nuclei-solidity_std\"\n",
    "df = multi_modal_data.copy()\n",
    "df, _ = categorize_based_on_median(df, VARIABLE, below_median=False)\n",
    "\n",
    "plot_covariate_distributions(\n",
    "    df, \n",
    "    {\"Neutrophils_nuclei-solidity_median\": \"Neutrophil \\n nuclei solidity (Mdn)\"}, \n",
    "    f\"{VARIABLE} > median\", \n",
    "    label_mapping={True: f\"> Median\", False: f\"$\\leq$ Median\"},\n",
    "    custom_palette={True: \"tab:blue\", False: \"tab:red\"}, \n",
    "    fontsize=7,\n",
    "    xlabel=f\"Neutrophil nuclei solidity (σ)\",\n",
    "    num_columns=1, \n",
    "    fig_width=1.75, \n",
    "    fig_height=2.5,\n",
    "    save_path=\"./results/figures/box_strip_plot_neutrophil_nuclei_solidity.png\",\n",
    ")"
   ]
  },
  {
   "cell_type": "markdown",
   "metadata": {},
   "source": [
    "### Association of cell statistic and cell differential counts"
   ]
  },
  {
   "cell_type": "markdown",
   "metadata": {},
   "source": [
    "#### Erythroblasts"
   ]
  },
  {
   "cell_type": "code",
   "execution_count": null,
   "metadata": {},
   "outputs": [],
   "source": [
    "CELL_TYPE = \"Erythroblasts\"\n",
    "dependent_variable = f\"{CELL_TYPE}_Percentage > median\"\n",
    "data = multi_modal_data[IMAGE_VARIABLES]\n",
    "data, _ = categorize_based_on_median(data, f\"{CELL_TYPE}_Percentage\", below_median=False)\n",
    "\n",
    "wilcoxon_results = wilcoxon_rank_sum_test(\n",
    "    data=data, \n",
    "    predicted_variable=dependent_variable, \n",
    "    variables=SAMPLE_STATISTIC_VARIABLES,\n",
    "    keep=True, \n",
    "    max_p_value=0.05,\n",
    ")\n",
    "wilcoxon_results = wilcoxon_results[\n",
    "    (wilcoxon_results[\"covariate\"].str.startswith(CELL_TYPE)) &\n",
    "    (wilcoxon_results[\"p-value\"] <= 0.05)\n",
    "]\n",
    "\n",
    "covariates = wilcoxon_results[\"covariate\"].to_list()\n",
    "tested_variables = {variable: transform_label(variable, keep_cell_type=False)  for variable in covariates}\n",
    "\n",
    "for variable, title in tested_variables.items():\n",
    "    plot_covariate_distributions(\n",
    "        data, \n",
    "        {variable: title}, \n",
    "        f\"{CELL_TYPE}_Percentage > median\", \n",
    "        label_mapping={False: f\"$\\leq$Median\", True: f\"$>$Median\"},\n",
    "        custom_palette={False: \"tab:blue\", True: \"tab:red\"}, \n",
    "        fontsize=7,\n",
    "        xlabel=f\"{CELL_TYPE} (%)\",\n",
    "        num_columns=1, \n",
    "        fig_width=1.5, \n",
    "        fig_height=2,\n",
    "        save_path=f\"./results/figures/box_strip_plot_{variable}.png\",\n",
    "    )"
   ]
  },
  {
   "cell_type": "code",
   "execution_count": null,
   "metadata": {},
   "outputs": [],
   "source": [
    "draw_scatter_plot(\n",
    "    x_variable=\"Erythroblasts_cell-solidity_median\",\n",
    "    y_variable=\"Erythroblasts_cell-solidity_std\",\n",
    "    df=multi_modal_data,\n",
    "    correlation_method='spearman',\n",
    "    show_trendline=False,\n",
    "    show_regression=True,\n",
    "    show_correlation=True,\n",
    "    x_label=\"Cell solidity (Mdn)\",\n",
    "    y_label=\"Cell solidity (σ)\",\n",
    "    show_grid=False,\n",
    "    figsize=(2, 2),\n",
    "    fontsize=7,\n",
    "    title=\"Correlation between the median \\nand standard deviation \\n of erythroblast solidity\",\n",
    "    save_path=f\"./results/figures/scatter_plot_erythroblast_cell_solidity.png\",\n",
    ")"
   ]
  },
  {
   "cell_type": "code",
   "execution_count": null,
   "metadata": {},
   "outputs": [],
   "source": [
    "draw_scatter_plot(\n",
    "    x_variable=\"Erythroblasts_cytoplasm-area_median\",\n",
    "    y_variable=\"Erythroblasts_cytoplasm-area_std\",\n",
    "    df=multi_modal_data,\n",
    "    correlation_method='spearman',\n",
    "    show_trendline=False,\n",
    "    show_regression=True,\n",
    "    show_correlation=True,\n",
    "    title=\"Correlation between the median \\nand standard deviation of \\nerythroblast cytoplasm area\",\n",
    "    x_label=\"Cytoplasm area (Mdn)\",\n",
    "    y_label=\"Cytoplasm area (σ)\",\n",
    "    show_grid=False,\n",
    "    figsize=(2, 2),\n",
    "    fontsize=7,\n",
    "    save_path=f\"./results/figures/scatter_plot_Erythroblasts_cytoplasm-area.png\",\n",
    ")"
   ]
  },
  {
   "cell_type": "markdown",
   "metadata": {},
   "source": [
    "#### Promyelocytes"
   ]
  },
  {
   "cell_type": "code",
   "execution_count": null,
   "metadata": {},
   "outputs": [],
   "source": [
    "VARIABLE = \"Promyelocytes_nuclei-eccentricity_median\"\n",
    "df = multi_modal_data.copy()\n",
    "df = df.dropna(subset=VARIABLE)\n",
    "df, _ = categorize_based_on_median(df, VARIABLE, below_median=False)\n",
    "\n",
    "summarize_continuous_variables_by_group(\n",
    "    df,\n",
    "    f\"{VARIABLE} > median\", \n",
    "    [\"Promyelocytes_Percentage\"], \n",
    "    labels = {True: f\"> Median\", False: f\"$\\leq$ Median\"}, \n",
    "    num_decimals=3,\n",
    ")"
   ]
  },
  {
   "cell_type": "markdown",
   "metadata": {},
   "source": [
    "#### Immature eosinophils"
   ]
  },
  {
   "cell_type": "code",
   "execution_count": null,
   "metadata": {},
   "outputs": [],
   "source": [
    "CELL_TYPE = \"Eosinophils_Immature\"\n",
    "\n",
    "dependent_variable = {f\"{CELL_TYPE}_Percentage > median\": f\"Immature Eosinophils (%) \\n > Median\"}\n",
    "data = multi_modal_data[IMAGE_VARIABLES]\n",
    "data, _ = categorize_based_on_median(data, f\"{CELL_TYPE}_Percentage\", below_median=False)\n",
    "\n",
    "wilcoxon_results = wilcoxon_rank_sum_test(\n",
    "    data=data, \n",
    "    predicted_variable=list(dependent_variable.keys())[0], \n",
    "    variables=SAMPLE_STATISTIC_VARIABLES,\n",
    "    keep=True, \n",
    "    max_p_value=0.05,\n",
    ")\n",
    "wilcoxon_results = wilcoxon_results[\n",
    "    (wilcoxon_results[\"covariate\"].str.startswith(CELL_TYPE)) &\n",
    "    (wilcoxon_results[\"p-value\"] <= 0.05)\n",
    "]\n",
    "covariates = wilcoxon_results[\"covariate\"].to_list()\n",
    "tested_variables = {variable: transform_label(variable, keep_cell_type=False)  for variable in covariates}\n",
    "\n",
    "plot_covariate_distributions(\n",
    "    data, \n",
    "    tested_variables,\n",
    "    f\"{CELL_TYPE}_Percentage > median\", \n",
    "    label_mapping={False: f\"$\\leq$ Median\", True: f\"> Median\"},\n",
    "    custom_palette={False: \"tab:blue\", True: \"tab:red\"}, \n",
    "    fontsize=7,\n",
    "    xlabel=\"Immature Eosinophils (%)\",\n",
    "    num_columns=5, \n",
    "    fig_width=7, \n",
    "    fig_height=2,\n",
    "    save_path=f\"./results/figures/box_strip_plot_eosinophils_immature.png\",\n",
    ")"
   ]
  },
  {
   "cell_type": "code",
   "execution_count": null,
   "metadata": {},
   "outputs": [],
   "source": [
    "draw_scatter_plot(\n",
    "    x_variable=\"Eosinophils_Immature_nuclei-area_median\",\n",
    "    y_variable=\"Eosinophils_Immature_cell-area_median\",\n",
    "    df=multi_modal_data,\n",
    "    correlation_method='pearson',\n",
    "    show_trendline=False,\n",
    "    show_regression=True,\n",
    "    show_correlation=True,\n",
    "    x_label=\"Nuclei area (Mdn)\",\n",
    "    y_label=\"Cell area (Mdn)\",\n",
    "    figsize=(2.5, 2.5),\n",
    "    fontsize=7,\n",
    "    title=\"Correlation between the median \\narea of nuclei and the whole cell \\nof immature eosinophils\",\n",
    "    save_path=f\"./results/figures/scatter_plot_Eosinophils_Immature_area.png\",\n",
    ")"
   ]
  },
  {
   "cell_type": "code",
   "execution_count": null,
   "metadata": {},
   "outputs": [],
   "source": [
    "draw_scatter_plot(\n",
    "    x_variable=\"Eosinophils_Immature_nuclei-perimeter_median\",\n",
    "    y_variable=\"Eosinophils_Immature_cell-perimeter_median\",\n",
    "    df=multi_modal_data,\n",
    "    correlation_method='pearson',\n",
    "    show_trendline=False,\n",
    "    show_regression=True,\n",
    "    show_correlation=True,\n",
    "    x_label=\"Nuclei perimeter (Mdn)\",\n",
    "    y_label=\"Cell perimeter (Mdn)\",\n",
    "    figsize=(2.5, 2.5),\n",
    "    fontsize=7,\n",
    "    title=\"Correlation between the median \\nperimeter of nuclei and the whole cell \\nof immature eosinophils\",\n",
    "    save_path=f\"./results/figures/scatter_plot_Eosinophils_Immature_perimeter.png\",\n",
    ")"
   ]
  },
  {
   "cell_type": "markdown",
   "metadata": {},
   "source": [
    "#### Neutrophils\n",
    "\n",
    "No significant variables found."
   ]
  }
 ],
 "metadata": {
  "kernelspec": {
   "display_name": "Python 3 (ipykernel)",
   "language": "python",
   "name": "python3"
  },
  "language_info": {
   "codemirror_mode": {
    "name": "ipython",
    "version": 3
   },
   "file_extension": ".py",
   "mimetype": "text/x-python",
   "name": "python",
   "nbconvert_exporter": "python",
   "pygments_lexer": "ipython3",
   "version": "3.8.18"
  }
 },
 "nbformat": 4,
 "nbformat_minor": 4
}
